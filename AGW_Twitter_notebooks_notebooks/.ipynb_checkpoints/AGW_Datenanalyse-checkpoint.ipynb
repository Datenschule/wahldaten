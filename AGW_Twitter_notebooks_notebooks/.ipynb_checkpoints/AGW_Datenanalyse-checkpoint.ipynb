{
 "cells": [
  {
   "cell_type": "code",
   "execution_count": null,
   "metadata": {
    "collapsed": false
   },
   "outputs": [],
   "source": [
    "import feedparser\n",
    "\n",
    "import pandas as pd\n",
    "import matplotlib.pyplot as plt\n",
    "import numpy as np\n",
    "\n",
    "import nltk\n",
    "from nltk.corpus import stopwords\n",
    "from nltk import FreqDist\n",
    "from nltk.tokenize import RegexpTokenizer"
   ]
  },
  {
   "cell_type": "code",
   "execution_count": null,
   "metadata": {
    "collapsed": false
   },
   "outputs": [],
   "source": [
    "def tok(txt,stop):\n",
    "    tokenizer = RegexpTokenizer(r'\\w+')\n",
    "    #tokens = tokenizer.tokenize(txt)\n",
    "\n",
    "    #text =  nltk.word_tokenize(txt)\n",
    "    \n",
    "    return([i for i in txt.lower().split() if i not in stop])\n",
    "\n",
    "\n",
    "def frq(words,anzahl):\n",
    "    fdist = FreqDist(words)\n",
    "    return(fdist.most_common(anzahl))\n",
    "    "
   ]
  },
  {
   "cell_type": "code",
   "execution_count": null,
   "metadata": {
    "collapsed": false
   },
   "outputs": [],
   "source": [
    "def get_year(stamp):\n",
    "    return(str(stamp.year))\n",
    "\n",
    "def get_month(stamp):\n",
    "    return(str(stamp.month))"
   ]
  },
  {
   "cell_type": "code",
   "execution_count": null,
   "metadata": {
    "collapsed": true
   },
   "outputs": [],
   "source": [
    "AGW_path = ''\n",
    "\n",
    "Test_file = open(AGW_path,'r')\n",
    "\n"
   ]
  },
  {
   "cell_type": "code",
   "execution_count": null,
   "metadata": {
    "collapsed": false
   },
   "outputs": [],
   "source": [
    "feeds = feedparser.parse(AGW_path)"
   ]
  },
  {
   "cell_type": "code",
   "execution_count": null,
   "metadata": {
    "collapsed": true
   },
   "outputs": [],
   "source": [
    "nr_Answers = len(feeds.entries)"
   ]
  },
  {
   "cell_type": "code",
   "execution_count": null,
   "metadata": {
    "collapsed": false
   },
   "outputs": [],
   "source": [
    "Politiker_list = []\n",
    "Term_list = []\n",
    "label_list = []\n",
    "scheme_list = []\n",
    "summary_list = []\n",
    "published_list = []\n",
    "link_list = []"
   ]
  },
  {
   "cell_type": "code",
   "execution_count": null,
   "metadata": {
    "collapsed": false
   },
   "outputs": [],
   "source": [
    "for f in feeds.entries:\n",
    "    title = [f.title]\n",
    "    term = f.tags[0].term\n",
    "    label = f.tags[0].label\n",
    "    scheme = f.tags[0].scheme\n",
    "    summary = f.summary\n",
    "    published = f.published\n",
    "    link = f.link\n",
    "    Politiker_list.append(title)\n",
    "    Term_list.append(term)\n",
    "    label_list.append(label)\n",
    "    scheme_list.append(scheme)\n",
    "    summary_list.append(summary)\n",
    "    published_list.append(published)\n",
    "    link_list.append(link)"
   ]
  },
  {
   "cell_type": "code",
   "execution_count": null,
   "metadata": {
    "collapsed": false
   },
   "outputs": [],
   "source": [
    "df_antwort = pd.DataFrame({'Politiker': Politiker_list,\n",
    "                             'Antwort': summary_list,\n",
    "                             'Datum': published_list,\n",
    "                             'Term': Term_list,\n",
    "                             'scheme': scheme_list,\n",
    "                             'label': label_list,\n",
    "                             'label': link_list,\n",
    "                            })"
   ]
  },
  {
   "cell_type": "code",
   "execution_count": null,
   "metadata": {
    "collapsed": false
   },
   "outputs": [],
   "source": [
    "\n",
    "df_antwort['Datum'] = pd.to_datetime(df_antwort.Datum)\n",
    "#df_antwort = df_antwort.set_index(df_antwort.Datum)\n",
    "#df_antwort.groupby(pd.TimeGrouper(\"Y\"))\n"
   ]
  },
  {
   "cell_type": "code",
   "execution_count": null,
   "metadata": {
    "collapsed": true
   },
   "outputs": [],
   "source": [
    "df_antwort['Jahr'] = df_antwort.Datum.apply(get_year)\n",
    "df_antwort['Monat'] = df_antwort.Datum.apply(get_month)"
   ]
  },
  {
   "cell_type": "code",
   "execution_count": null,
   "metadata": {
    "collapsed": false
   },
   "outputs": [],
   "source": [
    "df_antwort['period'] = df_antwort['Jahr'] + '-'+ df_antwort['Monat'] \n",
    "#df_antwort['Jahr']\n",
    "#df_antwort.loc[df_antwort['Jahr'] == '2013']\n"
   ]
  },
  {
   "cell_type": "code",
   "execution_count": null,
   "metadata": {
    "collapsed": false
   },
   "outputs": [],
   "source": [
    "df_antwort['Politiker'], df_antwort['Partei'] = zip(*df_antwort['Politiker'].apply(lambda x: str(x).split('(', 1)))\n",
    "df_antwort['Helper'] = 1"
   ]
  },
  {
   "cell_type": "code",
   "execution_count": null,
   "metadata": {
    "collapsed": false
   },
   "outputs": [],
   "source": [
    "df_antwort['Politiker'] = df_antwort['Politiker'].map(lambda x: x.strip(\"['\"))\n",
    "df_antwort['Partei'] = df_antwort['Partei'].map(lambda x: x.strip(\"']\"))\n",
    "df_antwort['Partei'] = df_antwort['Partei'].map(lambda x: x.strip(\")\"))"
   ]
  },
  {
   "cell_type": "code",
   "execution_count": null,
   "metadata": {
    "collapsed": false
   },
   "outputs": [],
   "source": [
    "df_antwort.head()"
   ]
  },
  {
   "cell_type": "code",
   "execution_count": null,
   "metadata": {
    "collapsed": false
   },
   "outputs": [],
   "source": [
    "df_antwort.groupby(['Partei']).Helper.agg(['sum']).sort_values(by='sum', ascending=False).head(10).plot(kind='bar',  title='Top 10: Anzahl Antworten von Parteien')\n",
    "plt.show()"
   ]
  },
  {
   "cell_type": "code",
   "execution_count": null,
   "metadata": {
    "collapsed": false
   },
   "outputs": [],
   "source": [
    "df_gb_period = df_antwort.groupby(['period']).Helper.agg(['count','sum']).sort_values(by='sum', ascending=False)\n",
    "df_gb_period.head(15).sort_index(ascending=True)\n",
    "df_gb_period.sort_index(ascending=True).plot(kind='line',  title='Jahresverlauf: Anzahl der Antworten')\n",
    "plt.show()"
   ]
  },
  {
   "cell_type": "code",
   "execution_count": null,
   "metadata": {
    "collapsed": false
   },
   "outputs": [],
   "source": [
    "pd.pivot_table(df_antwort,index=['Partei','Politiker'], values=['Helper'],aggfunc=np.sum).head(5)\n"
   ]
  },
  {
   "cell_type": "code",
   "execution_count": null,
   "metadata": {
    "collapsed": false
   },
   "outputs": [],
   "source": [
    "stopp = set(stopwords.words('german'))\n",
    "stopp.update(['dass',\n",
    "              'dafür',\n",
    "              '-',\n",
    "              '–',\n",
    "              'werden',\n",
    "              'werden.',\n",
    "              'werden,',\n",
    "              'statt',\n",
    "              'mehr',\n",
    "              'deshalb',\n",
    "              'ebenso',\n",
    "              'bisher',\n",
    "              'z.b.',\n",
    "              'herr',\n",
    "              'frau',\n",
    "              'geehrter',\n",
    "              'geehrte',\n",
    "              'grüße',\n",
    "              'grüßen',\n",
    "              'freundliche',\n",
    "              'freundlichen',\n",
    "              'vielen',\n",
    "              'dank',\n",
    "              'müssen',\n",
    "              'frage',\n",
    "              'immer',\n",
    "              'schon',\n",
    "              'viele'\n",
    "             ])\n",
    "    \n",
    "\n",
    "df_antwort['analyse'] = df_antwort.Antwort.apply(tok,stop=stopp)"
   ]
  },
  {
   "cell_type": "code",
   "execution_count": null,
   "metadata": {
    "collapsed": false
   },
   "outputs": [],
   "source": [
    "df_antwort['most_common'] = df_antwort.analyse.apply(frq,anzahl=2)\n",
    "df_antwort"
   ]
  },
  {
   "cell_type": "code",
   "execution_count": null,
   "metadata": {
    "collapsed": false
   },
   "outputs": [],
   "source": [
    "most = [i for sub in df_antwort.most_common for i in sub]\n",
    "df = pd.DataFrame({'MeisteWoerter':most })\n",
    "df['MeistesWort'], df['Anzahl'] = zip(*df['MeisteWoerter'].apply(lambda x: str(x).split(', ', 1)))\n",
    "\n",
    "df['Anzahl'] = df['Anzahl'].map(lambda x: x.strip(')'))\n",
    "df['MeistesWort'] = df['MeistesWort'].map(lambda x: x.strip('('))\n",
    "df['MeistesWort'] = df['MeistesWort'].map(lambda x: x.strip(\"'\"))\n",
    "\n",
    "del df['MeisteWoerter']"
   ]
  },
  {
   "cell_type": "code",
   "execution_count": null,
   "metadata": {
    "collapsed": false
   },
   "outputs": [],
   "source": [
    "df.sort_values('Anzahl')\n",
    "df.groupby(['MeistesWort']).size().sort_values(ascending=False)\n"
   ]
  },
  {
   "cell_type": "code",
   "execution_count": null,
   "metadata": {
    "collapsed": false
   },
   "outputs": [],
   "source": [
    "df_gb_text = df_antwort.groupby('period')['Antwort'].apply(lambda x: ' '.join(x))\n",
    "df_gb_text = pd.DataFrame(df_gb_text)\n",
    "\n",
    "#df.groupby('A')['C'].apply(lambda x: \"{%s}\" % ', '.join(x))\n",
    "\n",
    "\n",
    "df_gb_text2 = df_antwort.groupby(['period','Partei'])['Antwort'].apply(lambda x: ' '.join(x))\n",
    "df_gb_text2 =pd.DataFrame(df_gb_text2)\n",
    "df_gb_text2"
   ]
  },
  {
   "cell_type": "code",
   "execution_count": null,
   "metadata": {
    "collapsed": false
   },
   "outputs": [],
   "source": [
    "df_gb_text['analyse'] = df_gb_text.Antwort.apply(tok,stop=stopp)\n",
    "df_gb_text['most_common'] = df_gb_text.analyse.apply(frq,anzahl=5)"
   ]
  },
  {
   "cell_type": "code",
   "execution_count": null,
   "metadata": {
    "collapsed": false
   },
   "outputs": [],
   "source": [
    "#Meist genutzte Wörter der Parteien pro Monat\n",
    "\n",
    "df_gb_text2['analyse'] = df_gb_text2.Antwort.apply(tok,stop=stopp)\n",
    "df_gb_text2['most_common'] = df_gb_text2.analyse.apply(frq,anzahl=3)\n",
    "df_gb_text2"
   ]
  },
  {
   "cell_type": "code",
   "execution_count": null,
   "metadata": {
    "collapsed": true
   },
   "outputs": [],
   "source": [
    "export = df_antwort.to_csv('', sep=';')"
   ]
  }
 ],
 "metadata": {
  "kernelspec": {
   "display_name": "Python 3",
   "language": "python",
   "name": "python3"
  },
  "language_info": {
   "codemirror_mode": {
    "name": "ipython",
    "version": 3
   },
   "file_extension": ".py",
   "mimetype": "text/x-python",
   "name": "python",
   "nbconvert_exporter": "python",
   "pygments_lexer": "ipython3",
   "version": "3.5.2"
  }
 },
 "nbformat": 4,
 "nbformat_minor": 1
}
