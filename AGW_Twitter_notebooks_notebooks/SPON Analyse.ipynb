{
 "cells": [
  {
   "cell_type": "code",
   "execution_count": 22,
   "metadata": {
    "collapsed": false
   },
   "outputs": [],
   "source": [
    "#Importing Libraries\n",
    "import pandas as pd\n",
    "import matplotlib.pyplot as plt\n",
    "import os\n",
    "import plotly.plotly as py\n",
    "import plotly.graph_objs as go\n",
    "\n",
    "import colorlover as cl\n",
    "from IPython.display import HTML"
   ]
  },
  {
   "cell_type": "code",
   "execution_count": 2,
   "metadata": {
    "collapsed": false
   },
   "outputs": [],
   "source": [
    "#Import SPON Articles\n",
    "SPON_PATH =''\n",
    "df = pd.read_csv(SPON_PATH,sep=';')\n",
    "df['Key'] = df.index\n",
    "df['Key'] = 'SPON-' + df.index.astype(str)"
   ]
  },
  {
   "cell_type": "code",
   "execution_count": 3,
   "metadata": {
    "collapsed": false
   },
   "outputs": [
    {
     "data": {
      "text/html": [
       "<div>\n",
       "<table border=\"1\" class=\"dataframe\">\n",
       "  <thead>\n",
       "    <tr style=\"text-align: right;\">\n",
       "      <th></th>\n",
       "      <th>Keywording</th>\n",
       "      <th>Dates</th>\n",
       "      <th>Links</th>\n",
       "      <th>Newspaper</th>\n",
       "      <th>Summary</th>\n",
       "      <th>Titles</th>\n",
       "      <th>Fulltexts</th>\n",
       "      <th>Author</th>\n",
       "      <th>Top_image_link</th>\n",
       "      <th>Movie_link</th>\n",
       "      <th>Sources</th>\n",
       "      <th>Key</th>\n",
       "      <th>Counter</th>\n",
       "    </tr>\n",
       "  </thead>\n",
       "  <tbody>\n",
       "    <tr>\n",
       "      <th>0</th>\n",
       "      <td>Politik</td>\n",
       "      <td>Thu, 23 Feb 2017 16:28:39 +0100</td>\n",
       "      <td>http://www.spiegel.de/politik/ausland/geert-wi...</td>\n",
       "      <td>http://www.spiegel.de/politik/index.rss</td>\n",
       "      <td>Ein Personenschützer des niederländischen Rech...</td>\n",
       "      <td>Sicherheitsbedenken: Geert Wilders sagt alle W...</td>\n",
       "      <td>Aus Angst um seine Sicherheit verzichtet der n...</td>\n",
       "      <td>[' ']</td>\n",
       "      <td>http://cdn2.spiegel.de/images/image-1110961-ga...</td>\n",
       "      <td>[]</td>\n",
       "      <td>asa/Reuters/AP</td>\n",
       "      <td>SPON-0</td>\n",
       "      <td>1</td>\n",
       "    </tr>\n",
       "    <tr>\n",
       "      <th>0</th>\n",
       "      <td>Ausland</td>\n",
       "      <td>Thu, 23 Feb 2017 16:28:39 +0100</td>\n",
       "      <td>http://www.spiegel.de/politik/ausland/geert-wi...</td>\n",
       "      <td>http://www.spiegel.de/politik/index.rss</td>\n",
       "      <td>Ein Personenschützer des niederländischen Rech...</td>\n",
       "      <td>Sicherheitsbedenken: Geert Wilders sagt alle W...</td>\n",
       "      <td>Aus Angst um seine Sicherheit verzichtet der n...</td>\n",
       "      <td>[' ']</td>\n",
       "      <td>http://cdn2.spiegel.de/images/image-1110961-ga...</td>\n",
       "      <td>[]</td>\n",
       "      <td>asa/Reuters/AP</td>\n",
       "      <td>SPON-0</td>\n",
       "      <td>1</td>\n",
       "    </tr>\n",
       "    <tr>\n",
       "      <th>0</th>\n",
       "      <td>Geert Wilders</td>\n",
       "      <td>Thu, 23 Feb 2017 16:28:39 +0100</td>\n",
       "      <td>http://www.spiegel.de/politik/ausland/geert-wi...</td>\n",
       "      <td>http://www.spiegel.de/politik/index.rss</td>\n",
       "      <td>Ein Personenschützer des niederländischen Rech...</td>\n",
       "      <td>Sicherheitsbedenken: Geert Wilders sagt alle W...</td>\n",
       "      <td>Aus Angst um seine Sicherheit verzichtet der n...</td>\n",
       "      <td>[' ']</td>\n",
       "      <td>http://cdn2.spiegel.de/images/image-1110961-ga...</td>\n",
       "      <td>[]</td>\n",
       "      <td>asa/Reuters/AP</td>\n",
       "      <td>SPON-0</td>\n",
       "      <td>1</td>\n",
       "    </tr>\n",
       "    <tr>\n",
       "      <th>0</th>\n",
       "      <td>Niederlande</td>\n",
       "      <td>Thu, 23 Feb 2017 16:28:39 +0100</td>\n",
       "      <td>http://www.spiegel.de/politik/ausland/geert-wi...</td>\n",
       "      <td>http://www.spiegel.de/politik/index.rss</td>\n",
       "      <td>Ein Personenschützer des niederländischen Rech...</td>\n",
       "      <td>Sicherheitsbedenken: Geert Wilders sagt alle W...</td>\n",
       "      <td>Aus Angst um seine Sicherheit verzichtet der n...</td>\n",
       "      <td>[' ']</td>\n",
       "      <td>http://cdn2.spiegel.de/images/image-1110961-ga...</td>\n",
       "      <td>[]</td>\n",
       "      <td>asa/Reuters/AP</td>\n",
       "      <td>SPON-0</td>\n",
       "      <td>1</td>\n",
       "    </tr>\n",
       "    <tr>\n",
       "      <th>1</th>\n",
       "      <td>Politik</td>\n",
       "      <td>Thu, 23 Feb 2017 15:32:00 +0100</td>\n",
       "      <td>http://www.spiegel.de/politik/deutschland/thom...</td>\n",
       "      <td>http://www.spiegel.de/politik/index.rss</td>\n",
       "      <td>Die Deutschen bekommen neue Reisepässe. Die Do...</td>\n",
       "      <td>Innenminister de Maizière: Das ist der neue Re...</td>\n",
       "      <td>Bundesinnenminister Thomas de Maizière hat ein...</td>\n",
       "      <td>[' ']</td>\n",
       "      <td>http://cdn1.spiegel.de/images/image-1110900-ga...</td>\n",
       "      <td>[]</td>\n",
       "      <td>asa/dpa</td>\n",
       "      <td>SPON-1</td>\n",
       "      <td>1</td>\n",
       "    </tr>\n",
       "  </tbody>\n",
       "</table>\n",
       "</div>"
      ],
      "text/plain": [
       "      Keywording                            Dates  \\\n",
       "0        Politik  Thu, 23 Feb 2017 16:28:39 +0100   \n",
       "0        Ausland  Thu, 23 Feb 2017 16:28:39 +0100   \n",
       "0  Geert Wilders  Thu, 23 Feb 2017 16:28:39 +0100   \n",
       "0    Niederlande  Thu, 23 Feb 2017 16:28:39 +0100   \n",
       "1        Politik  Thu, 23 Feb 2017 15:32:00 +0100   \n",
       "\n",
       "                                               Links  \\\n",
       "0  http://www.spiegel.de/politik/ausland/geert-wi...   \n",
       "0  http://www.spiegel.de/politik/ausland/geert-wi...   \n",
       "0  http://www.spiegel.de/politik/ausland/geert-wi...   \n",
       "0  http://www.spiegel.de/politik/ausland/geert-wi...   \n",
       "1  http://www.spiegel.de/politik/deutschland/thom...   \n",
       "\n",
       "                                 Newspaper  \\\n",
       "0  http://www.spiegel.de/politik/index.rss   \n",
       "0  http://www.spiegel.de/politik/index.rss   \n",
       "0  http://www.spiegel.de/politik/index.rss   \n",
       "0  http://www.spiegel.de/politik/index.rss   \n",
       "1  http://www.spiegel.de/politik/index.rss   \n",
       "\n",
       "                                             Summary  \\\n",
       "0  Ein Personenschützer des niederländischen Rech...   \n",
       "0  Ein Personenschützer des niederländischen Rech...   \n",
       "0  Ein Personenschützer des niederländischen Rech...   \n",
       "0  Ein Personenschützer des niederländischen Rech...   \n",
       "1  Die Deutschen bekommen neue Reisepässe. Die Do...   \n",
       "\n",
       "                                              Titles  \\\n",
       "0  Sicherheitsbedenken: Geert Wilders sagt alle W...   \n",
       "0  Sicherheitsbedenken: Geert Wilders sagt alle W...   \n",
       "0  Sicherheitsbedenken: Geert Wilders sagt alle W...   \n",
       "0  Sicherheitsbedenken: Geert Wilders sagt alle W...   \n",
       "1  Innenminister de Maizière: Das ist der neue Re...   \n",
       "\n",
       "                                           Fulltexts Author  \\\n",
       "0  Aus Angst um seine Sicherheit verzichtet der n...  [' ']   \n",
       "0  Aus Angst um seine Sicherheit verzichtet der n...  [' ']   \n",
       "0  Aus Angst um seine Sicherheit verzichtet der n...  [' ']   \n",
       "0  Aus Angst um seine Sicherheit verzichtet der n...  [' ']   \n",
       "1  Bundesinnenminister Thomas de Maizière hat ein...  [' ']   \n",
       "\n",
       "                                      Top_image_link Movie_link  \\\n",
       "0  http://cdn2.spiegel.de/images/image-1110961-ga...         []   \n",
       "0  http://cdn2.spiegel.de/images/image-1110961-ga...         []   \n",
       "0  http://cdn2.spiegel.de/images/image-1110961-ga...         []   \n",
       "0  http://cdn2.spiegel.de/images/image-1110961-ga...         []   \n",
       "1  http://cdn1.spiegel.de/images/image-1110900-ga...         []   \n",
       "\n",
       "          Sources     Key  Counter  \n",
       "0  asa/Reuters/AP  SPON-0        1  \n",
       "0  asa/Reuters/AP  SPON-0        1  \n",
       "0  asa/Reuters/AP  SPON-0        1  \n",
       "0  asa/Reuters/AP  SPON-0        1  \n",
       "1         asa/dpa  SPON-1        1  "
      ]
     },
     "execution_count": 3,
     "metadata": {},
     "output_type": "execute_result"
    }
   ],
   "source": [
    "# Transpose Dataframe: Each Keyword per Row\n",
    "df = (df['Keywording'].str.split(',', expand=True).stack().reset_index(level=0).set_index('level_0').rename(columns={0:'Keywording'}).join(df.drop('Keywording',1), how='left'))\n",
    "#Add Counter\n",
    "df['Counter'] = 1\n",
    "#Data-Cleaning: Strip spaces from Keywords\n",
    "df['Keywording'] = df['Keywording'].str.strip(' ')\n",
    "#Drop duplicate rows in the dataframe\n",
    "df = df.drop_duplicates()\n",
    "#Check Dataframe\n",
    "df.head(5)"
   ]
  },
  {
   "cell_type": "markdown",
   "metadata": {},
   "source": [
    "# 1. Keyword-Analysis"
   ]
  },
  {
   "cell_type": "code",
   "execution_count": 5,
   "metadata": {
    "collapsed": false
   },
   "outputs": [
    {
     "data": {
      "text/html": [
       "<iframe id=\"igraph\" scrolling=\"no\" style=\"border:none;\" seamless=\"seamless\" src=\"https://plot.ly/~Weemoe/20.embed\" height=\"525px\" width=\"100%\"></iframe>"
      ],
      "text/plain": [
       "<plotly.tools.PlotlyDisplay object>"
      ]
     },
     "execution_count": 5,
     "metadata": {},
     "output_type": "execute_result"
    }
   ],
   "source": [
    "#\n",
    "fig = {\n",
    "    'data': [{'labels': ['Deutschland', 'Ausland'],\n",
    "              'values': [(df['Keywording'] == 'Deutschland').sum(), (df['Keywording'] == 'Ausland').sum()],\n",
    "              'type': 'pie'\n",
    "             }],\n",
    "    'layout': {'title': 'How many Political Articles on SPON cover foreign affairs / home affairs'}\n",
    "     }\n",
    "\n",
    "py.iplot(fig)"
   ]
  },
  {
   "cell_type": "markdown",
   "metadata": {},
   "source": [
    "#### Calculate for ten most frequent keywords (excluding: Politik, Deutschland, Ausland) "
   ]
  },
  {
   "cell_type": "code",
   "execution_count": 6,
   "metadata": {
    "collapsed": false
   },
   "outputs": [
    {
     "data": {
      "image/png": "[encoded data removed]",
      "text/plain": [
       "<matplotlib.figure.Figure at 0x11690aeb8>"
      ]
     },
     "metadata": {},
     "output_type": "display_data"
    }
   ],
   "source": [
    "#Exclude The Politik, Deutschland, Ausland as Keyword\n",
    "Keywords = df[(df.Keywording != 'Politik') & (df.Keywording != 'Deutschland') & (df.Keywording != 'Ausland')]\n",
    "\n",
    "#Get Ten most frequent keywords\n",
    "Keywords = Keywords.groupby(['Keywording']).Counter.agg(['sum']).sort_values(by='sum', ascending=False).head(10).plot(color='lightskyblue', kind='bar', title='Top 10: Most used Keywords by (SPON)' )\n",
    "plt.show()"
   ]
  },
  {
   "cell_type": "markdown",
   "metadata": {},
   "source": [
    "#### How many keywords on average per article"
   ]
  },
  {
   "cell_type": "code",
   "execution_count": 26,
   "metadata": {
    "collapsed": false
   },
   "outputs": [
    {
     "data": {
      "text/plain": [
       "4.5486542443064186"
      ]
     },
     "execution_count": 26,
     "metadata": {},
     "output_type": "execute_result"
    }
   ],
   "source": [
    "#Sum of all SPON Articles scraped sofar\n",
    "Articles = len(df.Key.unique())\n",
    "Articles\n",
    "\n",
    "Keyword_Average = pd.pivot_table(df,index=['Key'],values='Keywording', aggfunc=lambda x: len(x.unique()))\n",
    "#The Keyword 'Politik' is found in each article, thus it is taken out of the equasion by subtracting 1 \n",
    "Keyword_Average = (Keyword_Average.sum() / Articles) - 1\n",
    "\n",
    "Keyword_Average "
   ]
  },
  {
   "cell_type": "markdown",
   "metadata": {},
   "source": [
    "# 2. Who are the most frequent mentioned politicians"
   ]
  },
  {
   "cell_type": "code",
   "execution_count": 29,
   "metadata": {
    "collapsed": false
   },
   "outputs": [],
   "source": [
    "PARL_PATH\n",
    "Parliamentarians = pd.read_csv(PARL_PATH,sep=';')\n",
    "df_unique = df.drop_duplicates('Fulltexts')"
   ]
  },
  {
   "cell_type": "code",
   "execution_count": 87,
   "metadata": {
    "collapsed": false
   },
   "outputs": [],
   "source": [
    "#Check How often Politician is mentioned in Text by Fullname\n",
    "def Parl_check(Parl):\n",
    "    count = 0\n",
    "    for text in df_unique.Fulltexts:\n",
    "        if Parl in text:\n",
    "            count = count + 1\n",
    "    return(count)\n",
    "\n",
    "#Check which politicians is associated with specific keywords\n",
    "def keyword_check(text,keywords):\n",
    "    count = 0\n",
    "    for Parl in Parliamentarians.fullname:\n",
    "        if Parl in text:\n",
    "            return(Parl)"
   ]
  },
  {
   "cell_type": "code",
   "execution_count": 88,
   "metadata": {
    "collapsed": false
   },
   "outputs": [],
   "source": [
    "\n",
    "Parliamentarians['Mentions'] = Parliamentarians.fullname.apply(Parl_check)\n",
    "\n",
    "df['Politiker'] = df.apply(lambda x: keyword_check(x['Fulltexts'],x['Keywording']), axis=1)"
   ]
  },
  {
   "cell_type": "code",
   "execution_count": 90,
   "metadata": {
    "collapsed": false
   },
   "outputs": [],
   "source": [
    "Politicians = list(df.groupby(['Politiker'])['Keywording'])"
   ]
  },
  {
   "cell_type": "code",
   "execution_count": 92,
   "metadata": {
    "collapsed": false
   },
   "outputs": [
    {
     "ename": "AttributeError",
     "evalue": "'list' object has no attribute 'value_count'",
     "output_type": "error",
     "traceback": [
      "\u001b[0;31m---------------------------------------------------------------------------\u001b[0m",
      "\u001b[0;31mAttributeError\u001b[0m                            Traceback (most recent call last)",
      "\u001b[0;32m<ipython-input-92-16fa2e17bba0>\u001b[0m in \u001b[0;36m<module>\u001b[0;34m()\u001b[0m\n\u001b[0;32m----> 1\u001b[0;31m \u001b[0mPoliticians\u001b[0m\u001b[0;34m.\u001b[0m\u001b[0mvalue_count\u001b[0m\u001b[0;34m(\u001b[0m\u001b[0;34m)\u001b[0m\u001b[0;34m\u001b[0m\u001b[0m\n\u001b[0m",
      "\u001b[0;31mAttributeError\u001b[0m: 'list' object has no attribute 'value_count'"
     ]
    }
   ],
   "source": []
  },
  {
   "cell_type": "code",
   "execution_count": 32,
   "metadata": {
    "collapsed": false
   },
   "outputs": [
    {
     "data": {
      "text/html": [
       "<div>\n",
       "<table border=\"1\" class=\"dataframe\">\n",
       "  <thead>\n",
       "    <tr style=\"text-align: right;\">\n",
       "      <th></th>\n",
       "      <th>nachname</th>\n",
       "      <th>vorname</th>\n",
       "      <th>partei</th>\n",
       "      <th>website</th>\n",
       "      <th>feed</th>\n",
       "      <th>fullname</th>\n",
       "      <th>wikidataq</th>\n",
       "      <th>wikidataurl</th>\n",
       "      <th>wikidataname</th>\n",
       "      <th>distance</th>\n",
       "      <th>wikidatawebsite</th>\n",
       "      <th>distance.1</th>\n",
       "      <th>Mentions</th>\n",
       "    </tr>\n",
       "  </thead>\n",
       "  <tbody>\n",
       "    <tr>\n",
       "      <th>353</th>\n",
       "      <td>Merkel</td>\n",
       "      <td>Angela</td>\n",
       "      <td>CDU</td>\n",
       "      <td>https://www.angela-merkel.de</td>\n",
       "      <td>NaN</td>\n",
       "      <td>Angela Merkel</td>\n",
       "      <td>Q567</td>\n",
       "      <td>https://www.wikidata.org/wiki/Q567</td>\n",
       "      <td>Angela Merkel</td>\n",
       "      <td>0</td>\n",
       "      <td>https://www.angela-merkel.de/</td>\n",
       "      <td>0</td>\n",
       "      <td>86</td>\n",
       "    </tr>\n",
       "    <tr>\n",
       "      <th>126</th>\n",
       "      <td>Gabriel</td>\n",
       "      <td>Sigmar</td>\n",
       "      <td>SPD</td>\n",
       "      <td>https://sigmar-gabriel.de</td>\n",
       "      <td>1.0</td>\n",
       "      <td>Sigmar Gabriel</td>\n",
       "      <td>Q160902</td>\n",
       "      <td>https://www.wikidata.org/wiki/Q160902</td>\n",
       "      <td>Sigmar Gabriel</td>\n",
       "      <td>0</td>\n",
       "      <td>https://sigmar-gabriel.de</td>\n",
       "      <td>0</td>\n",
       "      <td>48</td>\n",
       "    </tr>\n",
       "    <tr>\n",
       "      <th>397</th>\n",
       "      <td>Özdemir</td>\n",
       "      <td>Cem</td>\n",
       "      <td>GRÜNE</td>\n",
       "      <td>http://www.oezdemir.de</td>\n",
       "      <td>1.0</td>\n",
       "      <td>Cem Özdemir</td>\n",
       "      <td>Q12839</td>\n",
       "      <td>https://www.wikidata.org/wiki/Q12839</td>\n",
       "      <td>Cem Özdemir</td>\n",
       "      <td>0</td>\n",
       "      <td>http://www.oezdemir.de/</td>\n",
       "      <td>0</td>\n",
       "      <td>13</td>\n",
       "    </tr>\n",
       "    <tr>\n",
       "      <th>573</th>\n",
       "      <td>von der Leyen</td>\n",
       "      <td>Ursula</td>\n",
       "      <td>CDU</td>\n",
       "      <td>http://www.ursula-von-der-leyen.de</td>\n",
       "      <td>NaN</td>\n",
       "      <td>Ursula von der Leyen</td>\n",
       "      <td>Q60772</td>\n",
       "      <td>https://www.wikidata.org/wiki/Q60772</td>\n",
       "      <td>Ursula von der Leyen</td>\n",
       "      <td>0</td>\n",
       "      <td>http://www.ursula-von-der-leyen.de/</td>\n",
       "      <td>0</td>\n",
       "      <td>11</td>\n",
       "    </tr>\n",
       "    <tr>\n",
       "      <th>391</th>\n",
       "      <td>Oppermann</td>\n",
       "      <td>Thomas</td>\n",
       "      <td>SPD</td>\n",
       "      <td>http://www.thomasoppermann.de</td>\n",
       "      <td>1.0</td>\n",
       "      <td>Thomas Oppermann</td>\n",
       "      <td>Q90833</td>\n",
       "      <td>https://www.wikidata.org/wiki/Q90833</td>\n",
       "      <td>Thomas Oppermann</td>\n",
       "      <td>0</td>\n",
       "      <td>http://www.thomasoppermann.de/</td>\n",
       "      <td>0</td>\n",
       "      <td>9</td>\n",
       "    </tr>\n",
       "  </tbody>\n",
       "</table>\n",
       "</div>"
      ],
      "text/plain": [
       "          nachname vorname partei                             website  feed  \\\n",
       "353         Merkel  Angela    CDU        https://www.angela-merkel.de   NaN   \n",
       "126        Gabriel  Sigmar    SPD           https://sigmar-gabriel.de   1.0   \n",
       "397        Özdemir     Cem  GRÜNE              http://www.oezdemir.de   1.0   \n",
       "573  von der Leyen  Ursula    CDU  http://www.ursula-von-der-leyen.de   NaN   \n",
       "391      Oppermann  Thomas    SPD       http://www.thomasoppermann.de   1.0   \n",
       "\n",
       "                 fullname wikidataq                            wikidataurl  \\\n",
       "353         Angela Merkel      Q567     https://www.wikidata.org/wiki/Q567   \n",
       "126        Sigmar Gabriel   Q160902  https://www.wikidata.org/wiki/Q160902   \n",
       "397           Cem Özdemir    Q12839   https://www.wikidata.org/wiki/Q12839   \n",
       "573  Ursula von der Leyen    Q60772   https://www.wikidata.org/wiki/Q60772   \n",
       "391      Thomas Oppermann    Q90833   https://www.wikidata.org/wiki/Q90833   \n",
       "\n",
       "             wikidataname  distance                      wikidatawebsite  \\\n",
       "353         Angela Merkel         0        https://www.angela-merkel.de/   \n",
       "126        Sigmar Gabriel         0            https://sigmar-gabriel.de   \n",
       "397           Cem Özdemir         0              http://www.oezdemir.de/   \n",
       "573  Ursula von der Leyen         0  http://www.ursula-von-der-leyen.de/   \n",
       "391      Thomas Oppermann         0       http://www.thomasoppermann.de/   \n",
       "\n",
       "     distance.1  Mentions  \n",
       "353           0        86  \n",
       "126           0        48  \n",
       "397           0        13  \n",
       "573           0        11  \n",
       "391           0         9  "
      ]
     },
     "execution_count": 32,
     "metadata": {},
     "output_type": "execute_result"
    }
   ],
   "source": [
    "Parliamentarians.sort_values('Mentions',ascending=False).head(5)"
   ]
  },
  {
   "cell_type": "code",
   "execution_count": 33,
   "metadata": {
    "collapsed": false
   },
   "outputs": [
    {
     "data": {
      "image/png": "[encoded data removed]",
      "text/plain": [
       "<matplotlib.figure.Figure at 0x116c2d2b0>"
      ]
     },
     "metadata": {},
     "output_type": "display_data"
    }
   ],
   "source": [
    "#Get Ten most frequent mentions of parliamentarians\n",
    "Parliamentarians.groupby(['fullname']).Mentions.agg(['sum']).sort_values(by='sum', ascending=False).head(10).plot(color='lightskyblue', kind='bar', title='Top 10: Most freq. mentioned politicians' )\n",
    "plt.show()"
   ]
  },
  {
   "cell_type": "code",
   "execution_count": 34,
   "metadata": {
    "collapsed": false
   },
   "outputs": [
    {
     "data": {
      "text/html": [
       "<div>\n",
       "<table border=\"1\" class=\"dataframe\">\n",
       "  <thead>\n",
       "    <tr style=\"text-align: right;\">\n",
       "      <th></th>\n",
       "      <th>Name</th>\n",
       "      <th>Partymentions</th>\n",
       "    </tr>\n",
       "    <tr>\n",
       "      <th>partei</th>\n",
       "      <th></th>\n",
       "      <th></th>\n",
       "    </tr>\n",
       "  </thead>\n",
       "  <tbody>\n",
       "    <tr>\n",
       "      <th>SPD</th>\n",
       "      <td>SPD</td>\n",
       "      <td>110</td>\n",
       "    </tr>\n",
       "    <tr>\n",
       "      <th>CDU</th>\n",
       "      <td>CDU</td>\n",
       "      <td>80</td>\n",
       "    </tr>\n",
       "    <tr>\n",
       "      <th>CSU</th>\n",
       "      <td>CSU</td>\n",
       "      <td>40</td>\n",
       "    </tr>\n",
       "    <tr>\n",
       "      <th>GRÜNE</th>\n",
       "      <td>GRÜNE</td>\n",
       "      <td>1</td>\n",
       "    </tr>\n",
       "    <tr>\n",
       "      <th>DIE LINKE</th>\n",
       "      <td>DIE LINKE</td>\n",
       "      <td>0</td>\n",
       "    </tr>\n",
       "  </tbody>\n",
       "</table>\n",
       "</div>"
      ],
      "text/plain": [
       "                Name  Partymentions\n",
       "partei                             \n",
       "SPD              SPD            110\n",
       "CDU              CDU             80\n",
       "CSU              CSU             40\n",
       "GRÜNE          GRÜNE              1\n",
       "DIE LINKE  DIE LINKE              0"
      ]
     },
     "execution_count": 34,
     "metadata": {},
     "output_type": "execute_result"
    }
   ],
   "source": [
    "#Party Mentions in Media: Not yet checking for alternatives such as Grünen, ...Der Linken etc.\n",
    "Parties = pd.pivot_table(Parliamentarians,index=['partei'])\n",
    "del Parties['Mentions'],Parties['distance'],Parties['distance.1'],Parties['feed']\n",
    "Parties['Name'] = Parties.index\n",
    "Parties['Partymentions'] =  Parties.Name.apply(Parl_check)\n",
    "Parties.sort_values(by='Partymentions',ascending=False)"
   ]
  },
  {
   "cell_type": "code",
   "execution_count": 35,
   "metadata": {
    "collapsed": false
   },
   "outputs": [
    {
     "data": {
      "image/png": "[encoded data removed]",
      "text/plain": [
       "<matplotlib.figure.Figure at 0x1167ec860>"
      ]
     },
     "metadata": {},
     "output_type": "display_data"
    }
   ],
   "source": [
    "Parties.plot(color='lightskyblue', kind='bar', title='Which Party is mentioned most often')\n",
    "plt.show()"
   ]
  },
  {
   "cell_type": "code",
   "execution_count": 36,
   "metadata": {
    "collapsed": false
   },
   "outputs": [
    {
     "data": {
      "image/png": "[encoded data removed]",
      "text/plain": [
       "<matplotlib.figure.Figure at 0x11680e0b8>"
      ]
     },
     "metadata": {},
     "output_type": "display_data"
    }
   ],
   "source": [
    "#Which Parties get most mentions due to the their Members?\n",
    "Parliamentarians.groupby(['partei']).Mentions.agg(['sum']).sort_values(by='sum', ascending=False).head(10).plot(color='lightskyblue', kind='bar', title='Which Politicians by party get highest media attention' )\n",
    "plt.show()"
   ]
  },
  {
   "cell_type": "code",
   "execution_count": null,
   "metadata": {
    "collapsed": true
   },
   "outputs": [],
   "source": []
  }
 ],
 "metadata": {
  "kernelspec": {
   "display_name": "Python 3",
   "language": "python",
   "name": "python3"
  },
  "language_info": {
   "codemirror_mode": {
    "name": "ipython",
    "version": 3
   },
   "file_extension": ".py",
   "mimetype": "text/x-python",
   "name": "python",
   "nbconvert_exporter": "python",
   "pygments_lexer": "ipython3",
   "version": "3.5.2"
  }
 },
 "nbformat": 4,
 "nbformat_minor": 1
}
